{
 "cells": [
  {
   "cell_type": "markdown",
   "id": "8cbae852",
   "metadata": {},
   "source": [
    "**Simple pandas notebook**"
   ]
  },
  {
   "cell_type": "code",
   "execution_count": 2,
   "id": "d9d54259",
   "metadata": {},
   "outputs": [],
   "source": [
    "#!pip install pandas\n",
    "import pandas as pd"
   ]
  },
  {
   "cell_type": "code",
   "execution_count": null,
   "id": "b279a67b",
   "metadata": {},
   "outputs": [],
   "source": [
    "#read your csv file and display the first 5 rows"
   ]
  },
  {
   "cell_type": "code",
   "execution_count": null,
   "id": "abf6c60b",
   "metadata": {},
   "outputs": [],
   "source": [
    "#Find the number of unique fighters in the dataset"
   ]
  },
  {
   "cell_type": "code",
   "execution_count": null,
   "id": "ea356b88",
   "metadata": {},
   "outputs": [],
   "source": [
    "#Find the fighter with the most strikes in the dataset"
   ]
  },
  {
   "cell_type": "code",
   "execution_count": null,
   "id": "1cbb867c",
   "metadata": {},
   "outputs": [],
   "source": [
    "#Find the fighrer with the most Takedowns in the dataset "
   ]
  }
 ],
 "metadata": {
  "kernelspec": {
   "display_name": "Python 3",
   "language": "python",
   "name": "python3"
  },
  "language_info": {
   "codemirror_mode": {
    "name": "ipython",
    "version": 3
   },
   "file_extension": ".py",
   "mimetype": "text/x-python",
   "name": "python",
   "nbconvert_exporter": "python",
   "pygments_lexer": "ipython3",
   "version": "3.12.6"
  }
 },
 "nbformat": 4,
 "nbformat_minor": 5
}
